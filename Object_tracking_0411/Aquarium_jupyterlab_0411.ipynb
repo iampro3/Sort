{
 "cells": [
  {
   "cell_type": "markdown",
   "id": "b442df48-9840-46cd-93af-eb6b5631a3ad",
   "metadata": {},
   "source": [
    "## Aquarium.predict img to video file\n",
    "- https://docs.ultralytics.com/modes/predict/\n",
    "- https://www.youtube.com/watch?v=em_lOAp8DJE&t=28s\n",
    "- https://www.youtube.com/watch?v=IHbJcOex6dk"
   ]
  },
  {
   "cell_type": "code",
   "execution_count": 17,
   "id": "4428b258-bdbd-45a6-ab57-980a3a5f3cc7",
   "metadata": {
    "tags": []
   },
   "outputs": [],
   "source": [
    "from ultralytics import YOLO\n",
    "from ultralytics.yolo.v8.detect.predict import DetectionPredictor\n",
    "import cv2"
   ]
  },
  {
   "cell_type": "code",
   "execution_count": null,
   "id": "edeaea0a-82c4-4109-87e8-ce1f0782acb7",
   "metadata": {},
   "outputs": [],
   "source": [
    "model = YOLO(\"yolov8n.pt\")\n",
    "\n",
    "results = model.predict(source=\"0\", show=True)\n",
    "\n",
    "print(results)"
   ]
  }
 ],
 "metadata": {
  "kernelspec": {
   "display_name": "Python 3 (ipykernel)",
   "language": "python",
   "name": "python3"
  },
  "language_info": {
   "codemirror_mode": {
    "name": "ipython",
    "version": 3
   },
   "file_extension": ".py",
   "mimetype": "text/x-python",
   "name": "python",
   "nbconvert_exporter": "python",
   "pygments_lexer": "ipython3",
   "version": "3.11.2"
  }
 },
 "nbformat": 4,
 "nbformat_minor": 5
}
