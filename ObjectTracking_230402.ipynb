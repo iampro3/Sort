{
  "nbformat": 4,
  "nbformat_minor": 0,
  "metadata": {
    "colab": {
      "provenance": [],
      "authorship_tag": "ABX9TyM8gxlutblS4Sd8vBN1sEBD",
      "include_colab_link": true
    },
    "kernelspec": {
      "name": "python3",
      "display_name": "Python 3"
    },
    "language_info": {
      "name": "python"
    },
    "accelerator": "GPU",
    "gpuClass": "standard"
  },
  "cells": [
    {
      "cell_type": "markdown",
      "metadata": {
        "id": "view-in-github",
        "colab_type": "text"
      },
      "source": [
        "<a href=\"https://colab.research.google.com/github/iampro3/Sort/blob/main/ObjectTracking_230402.ipynb\" target=\"_parent\"><img src=\"https://colab.research.google.com/assets/colab-badge.svg\" alt=\"Open In Colab\"/></a>"
      ]
    },
    {
      "cell_type": "markdown",
      "source": [
        "## Get the requirements"
      ],
      "metadata": {
        "id": "D4tPYTzhmiJQ"
      }
    },
    {
      "cell_type": "code",
      "execution_count": 1,
      "metadata": {
        "colab": {
          "base_uri": "https://localhost:8080/"
        },
        "id": "fmHfiBRIl2Hk",
        "outputId": "5b21b177-8031-4f18-e42b-24b0347a4409"
      },
      "outputs": [
        {
          "output_type": "stream",
          "name": "stdout",
          "text": [
            "Looking in indexes: https://pypi.org/simple, https://us-python.pkg.dev/colab-wheels/public/simple/\n",
            "Collecting tf-centernet\n",
            "  Downloading tf_centernet-1.0.6-py3-none-any.whl (19 kB)\n",
            "Requirement already satisfied: tensorflow in /usr/local/lib/python3.9/dist-packages (from tf-centernet) (2.12.0)\n",
            "Requirement already satisfied: pillow in /usr/local/lib/python3.9/dist-packages (from tf-centernet) (8.4.0)\n",
            "Requirement already satisfied: numpy in /usr/local/lib/python3.9/dist-packages (from tf-centernet) (1.22.4)\n",
            "Requirement already satisfied: opt-einsum>=2.3.2 in /usr/local/lib/python3.9/dist-packages (from tensorflow->tf-centernet) (3.3.0)\n",
            "Requirement already satisfied: protobuf!=4.21.0,!=4.21.1,!=4.21.2,!=4.21.3,!=4.21.4,!=4.21.5,<5.0.0dev,>=3.20.3 in /usr/local/lib/python3.9/dist-packages (from tensorflow->tf-centernet) (3.20.3)\n",
            "Requirement already satisfied: libclang>=13.0.0 in /usr/local/lib/python3.9/dist-packages (from tensorflow->tf-centernet) (16.0.0)\n",
            "Requirement already satisfied: jax>=0.3.15 in /usr/local/lib/python3.9/dist-packages (from tensorflow->tf-centernet) (0.4.7)\n",
            "Requirement already satisfied: packaging in /usr/local/lib/python3.9/dist-packages (from tensorflow->tf-centernet) (23.0)\n",
            "Requirement already satisfied: astunparse>=1.6.0 in /usr/local/lib/python3.9/dist-packages (from tensorflow->tf-centernet) (1.6.3)\n",
            "Requirement already satisfied: tensorflow-io-gcs-filesystem>=0.23.1 in /usr/local/lib/python3.9/dist-packages (from tensorflow->tf-centernet) (0.32.0)\n",
            "Requirement already satisfied: termcolor>=1.1.0 in /usr/local/lib/python3.9/dist-packages (from tensorflow->tf-centernet) (2.2.0)\n",
            "Requirement already satisfied: six>=1.12.0 in /usr/local/lib/python3.9/dist-packages (from tensorflow->tf-centernet) (1.16.0)\n",
            "Requirement already satisfied: wrapt<1.15,>=1.11.0 in /usr/local/lib/python3.9/dist-packages (from tensorflow->tf-centernet) (1.14.1)\n",
            "Requirement already satisfied: grpcio<2.0,>=1.24.3 in /usr/local/lib/python3.9/dist-packages (from tensorflow->tf-centernet) (1.53.0)\n",
            "Requirement already satisfied: absl-py>=1.0.0 in /usr/local/lib/python3.9/dist-packages (from tensorflow->tf-centernet) (1.4.0)\n",
            "Requirement already satisfied: h5py>=2.9.0 in /usr/local/lib/python3.9/dist-packages (from tensorflow->tf-centernet) (3.8.0)\n",
            "Requirement already satisfied: gast<=0.4.0,>=0.2.1 in /usr/local/lib/python3.9/dist-packages (from tensorflow->tf-centernet) (0.4.0)\n",
            "Requirement already satisfied: typing-extensions>=3.6.6 in /usr/local/lib/python3.9/dist-packages (from tensorflow->tf-centernet) (4.5.0)\n",
            "Requirement already satisfied: flatbuffers>=2.0 in /usr/local/lib/python3.9/dist-packages (from tensorflow->tf-centernet) (23.3.3)\n",
            "Requirement already satisfied: tensorflow-estimator<2.13,>=2.12.0 in /usr/local/lib/python3.9/dist-packages (from tensorflow->tf-centernet) (2.12.0)\n",
            "Requirement already satisfied: tensorboard<2.13,>=2.12 in /usr/local/lib/python3.9/dist-packages (from tensorflow->tf-centernet) (2.12.0)\n",
            "Requirement already satisfied: keras<2.13,>=2.12.0 in /usr/local/lib/python3.9/dist-packages (from tensorflow->tf-centernet) (2.12.0)\n",
            "Requirement already satisfied: setuptools in /usr/local/lib/python3.9/dist-packages (from tensorflow->tf-centernet) (67.6.1)\n",
            "Requirement already satisfied: google-pasta>=0.1.1 in /usr/local/lib/python3.9/dist-packages (from tensorflow->tf-centernet) (0.2.0)\n",
            "Requirement already satisfied: wheel<1.0,>=0.23.0 in /usr/local/lib/python3.9/dist-packages (from astunparse>=1.6.0->tensorflow->tf-centernet) (0.40.0)\n",
            "Requirement already satisfied: ml-dtypes>=0.0.3 in /usr/local/lib/python3.9/dist-packages (from jax>=0.3.15->tensorflow->tf-centernet) (0.0.4)\n",
            "Requirement already satisfied: scipy>=1.7 in /usr/local/lib/python3.9/dist-packages (from jax>=0.3.15->tensorflow->tf-centernet) (1.10.1)\n",
            "Requirement already satisfied: werkzeug>=1.0.1 in /usr/local/lib/python3.9/dist-packages (from tensorboard<2.13,>=2.12->tensorflow->tf-centernet) (2.2.3)\n",
            "Requirement already satisfied: requests<3,>=2.21.0 in /usr/local/lib/python3.9/dist-packages (from tensorboard<2.13,>=2.12->tensorflow->tf-centernet) (2.27.1)\n",
            "Requirement already satisfied: markdown>=2.6.8 in /usr/local/lib/python3.9/dist-packages (from tensorboard<2.13,>=2.12->tensorflow->tf-centernet) (3.4.3)\n",
            "Requirement already satisfied: tensorboard-plugin-wit>=1.6.0 in /usr/local/lib/python3.9/dist-packages (from tensorboard<2.13,>=2.12->tensorflow->tf-centernet) (1.8.1)\n",
            "Requirement already satisfied: google-auth<3,>=1.6.3 in /usr/local/lib/python3.9/dist-packages (from tensorboard<2.13,>=2.12->tensorflow->tf-centernet) (2.17.0)\n",
            "Requirement already satisfied: google-auth-oauthlib<0.5,>=0.4.1 in /usr/local/lib/python3.9/dist-packages (from tensorboard<2.13,>=2.12->tensorflow->tf-centernet) (0.4.6)\n",
            "Requirement already satisfied: tensorboard-data-server<0.8.0,>=0.7.0 in /usr/local/lib/python3.9/dist-packages (from tensorboard<2.13,>=2.12->tensorflow->tf-centernet) (0.7.0)\n",
            "Requirement already satisfied: pyasn1-modules>=0.2.1 in /usr/local/lib/python3.9/dist-packages (from google-auth<3,>=1.6.3->tensorboard<2.13,>=2.12->tensorflow->tf-centernet) (0.2.8)\n",
            "Requirement already satisfied: cachetools<6.0,>=2.0.0 in /usr/local/lib/python3.9/dist-packages (from google-auth<3,>=1.6.3->tensorboard<2.13,>=2.12->tensorflow->tf-centernet) (5.3.0)\n",
            "Requirement already satisfied: rsa<5,>=3.1.4 in /usr/local/lib/python3.9/dist-packages (from google-auth<3,>=1.6.3->tensorboard<2.13,>=2.12->tensorflow->tf-centernet) (4.9)\n",
            "Requirement already satisfied: requests-oauthlib>=0.7.0 in /usr/local/lib/python3.9/dist-packages (from google-auth-oauthlib<0.5,>=0.4.1->tensorboard<2.13,>=2.12->tensorflow->tf-centernet) (1.3.1)\n",
            "Requirement already satisfied: importlib-metadata>=4.4 in /usr/local/lib/python3.9/dist-packages (from markdown>=2.6.8->tensorboard<2.13,>=2.12->tensorflow->tf-centernet) (6.1.0)\n",
            "Requirement already satisfied: certifi>=2017.4.17 in /usr/local/lib/python3.9/dist-packages (from requests<3,>=2.21.0->tensorboard<2.13,>=2.12->tensorflow->tf-centernet) (2022.12.7)\n",
            "Requirement already satisfied: idna<4,>=2.5 in /usr/local/lib/python3.9/dist-packages (from requests<3,>=2.21.0->tensorboard<2.13,>=2.12->tensorflow->tf-centernet) (3.4)\n",
            "Requirement already satisfied: charset-normalizer~=2.0.0 in /usr/local/lib/python3.9/dist-packages (from requests<3,>=2.21.0->tensorboard<2.13,>=2.12->tensorflow->tf-centernet) (2.0.12)\n",
            "Requirement already satisfied: urllib3<1.27,>=1.21.1 in /usr/local/lib/python3.9/dist-packages (from requests<3,>=2.21.0->tensorboard<2.13,>=2.12->tensorflow->tf-centernet) (1.26.15)\n",
            "Requirement already satisfied: MarkupSafe>=2.1.1 in /usr/local/lib/python3.9/dist-packages (from werkzeug>=1.0.1->tensorboard<2.13,>=2.12->tensorflow->tf-centernet) (2.1.2)\n",
            "Requirement already satisfied: zipp>=0.5 in /usr/local/lib/python3.9/dist-packages (from importlib-metadata>=4.4->markdown>=2.6.8->tensorboard<2.13,>=2.12->tensorflow->tf-centernet) (3.15.0)\n",
            "Requirement already satisfied: pyasn1<0.5.0,>=0.4.6 in /usr/local/lib/python3.9/dist-packages (from pyasn1-modules>=0.2.1->google-auth<3,>=1.6.3->tensorboard<2.13,>=2.12->tensorflow->tf-centernet) (0.4.8)\n",
            "Requirement already satisfied: oauthlib>=3.0.0 in /usr/local/lib/python3.9/dist-packages (from requests-oauthlib>=0.7.0->google-auth-oauthlib<0.5,>=0.4.1->tensorboard<2.13,>=2.12->tensorflow->tf-centernet) (3.2.2)\n",
            "Installing collected packages: tf-centernet\n",
            "Successfully installed tf-centernet-1.0.6\n"
          ]
        }
      ],
      "source": [
        "!pip install tf-centernet\n"
      ]
    },
    {
      "cell_type": "markdown",
      "source": [
        "## Centernet\n",
        "- 참조사이트 : https://gaussian37.github.io/vision-detection-centernet/"
      ],
      "metadata": {
        "id": "JW_D1e40moJK"
      }
    },
    {
      "cell_type": "code",
      "source": [
        "!git clone https://github.com/niconielsen32/ObjectTracking.git\n",
        "!pip install -r /content/ObjectTracking/requirements.txt"
      ],
      "metadata": {
        "colab": {
          "base_uri": "https://localhost:8080/"
        },
        "id": "14gCew8tl-rC",
        "outputId": "e6a23a58-5b3e-4127-cf12-22d059419c15"
      },
      "execution_count": 3,
      "outputs": [
        {
          "output_type": "stream",
          "name": "stdout",
          "text": [
            "Cloning into 'ObjectTracking'...\n",
            "remote: Enumerating objects: 43, done.\u001b[K\n",
            "remote: Counting objects: 100% (43/43), done.\u001b[K\n",
            "remote: Compressing objects: 100% (20/20), done.\u001b[K\n",
            "remote: Total 43 (delta 1), reused 2 (delta 0), pack-reused 0\u001b[K\n",
            "Unpacking objects: 100% (43/43), 10.84 MiB | 7.19 MiB/s, done.\n",
            "Looking in indexes: https://pypi.org/simple, https://us-python.pkg.dev/colab-wheels/public/simple/\n",
            "Collecting filterpy==1.4.5\n",
            "  Downloading filterpy-1.4.5.zip (177 kB)\n",
            "\u001b[2K     \u001b[90m━━━━━━━━━━━━━━━━━━━━━━━━━━━━━━━━━━━━━━━\u001b[0m \u001b[32m178.0/178.0 KB\u001b[0m \u001b[31m3.5 MB/s\u001b[0m eta \u001b[36m0:00:00\u001b[0m\n",
            "\u001b[?25h  Preparing metadata (setup.py) ... \u001b[?25l\u001b[?25hdone\n",
            "Collecting scikit-image==0.17.2\n",
            "  Downloading scikit-image-0.17.2.tar.gz (29.8 MB)\n",
            "\u001b[2K     \u001b[90m━━━━━━━━━━━━━━━━━━━━━━━━━━━━━━━━━━━━━━━━\u001b[0m \u001b[32m29.8/29.8 MB\u001b[0m \u001b[31m17.5 MB/s\u001b[0m eta \u001b[36m0:00:00\u001b[0m\n",
            "\u001b[?25h  Preparing metadata (setup.py) ... \u001b[?25l\u001b[?25hdone\n",
            "Collecting lap==0.4.0\n",
            "  Downloading lap-0.4.0.tar.gz (1.5 MB)\n",
            "\u001b[2K     \u001b[90m━━━━━━━━━━━━━━━━━━━━━━━━━━━━━━━━━━━━━━━━\u001b[0m \u001b[32m1.5/1.5 MB\u001b[0m \u001b[31m64.1 MB/s\u001b[0m eta \u001b[36m0:00:00\u001b[0m\n",
            "\u001b[?25h  Preparing metadata (setup.py) ... \u001b[?25l\u001b[?25hdone\n",
            "Collecting ffmpeg-python\n",
            "  Downloading ffmpeg_python-0.2.0-py3-none-any.whl (25 kB)\n",
            "Requirement already satisfied: seaborn in /usr/local/lib/python3.9/dist-packages (from -r /content/ObjectTracking/requirements.txt (line 5)) (0.12.2)\n",
            "Requirement already satisfied: Pillow in /usr/local/lib/python3.9/dist-packages (from -r /content/ObjectTracking/requirements.txt (line 6)) (8.4.0)\n",
            "Requirement already satisfied: numpy in /usr/local/lib/python3.9/dist-packages (from -r /content/ObjectTracking/requirements.txt (line 7)) (1.22.4)\n",
            "Requirement already satisfied: scipy in /usr/local/lib/python3.9/dist-packages (from filterpy==1.4.5->-r /content/ObjectTracking/requirements.txt (line 1)) (1.10.1)\n",
            "Requirement already satisfied: matplotlib in /usr/local/lib/python3.9/dist-packages (from filterpy==1.4.5->-r /content/ObjectTracking/requirements.txt (line 1)) (3.7.1)\n",
            "Requirement already satisfied: networkx>=2.0 in /usr/local/lib/python3.9/dist-packages (from scikit-image==0.17.2->-r /content/ObjectTracking/requirements.txt (line 2)) (3.0)\n",
            "Requirement already satisfied: imageio>=2.3.0 in /usr/local/lib/python3.9/dist-packages (from scikit-image==0.17.2->-r /content/ObjectTracking/requirements.txt (line 2)) (2.25.1)\n",
            "Requirement already satisfied: tifffile>=2019.7.26 in /usr/local/lib/python3.9/dist-packages (from scikit-image==0.17.2->-r /content/ObjectTracking/requirements.txt (line 2)) (2023.3.21)\n",
            "Requirement already satisfied: PyWavelets>=1.1.1 in /usr/local/lib/python3.9/dist-packages (from scikit-image==0.17.2->-r /content/ObjectTracking/requirements.txt (line 2)) (1.4.1)\n",
            "Requirement already satisfied: future in /usr/local/lib/python3.9/dist-packages (from ffmpeg-python->-r /content/ObjectTracking/requirements.txt (line 4)) (0.18.3)\n",
            "Requirement already satisfied: pandas>=0.25 in /usr/local/lib/python3.9/dist-packages (from seaborn->-r /content/ObjectTracking/requirements.txt (line 5)) (1.4.4)\n",
            "Requirement already satisfied: kiwisolver>=1.0.1 in /usr/local/lib/python3.9/dist-packages (from matplotlib->filterpy==1.4.5->-r /content/ObjectTracking/requirements.txt (line 1)) (1.4.4)\n",
            "Requirement already satisfied: pyparsing>=2.3.1 in /usr/local/lib/python3.9/dist-packages (from matplotlib->filterpy==1.4.5->-r /content/ObjectTracking/requirements.txt (line 1)) (3.0.9)\n",
            "Requirement already satisfied: packaging>=20.0 in /usr/local/lib/python3.9/dist-packages (from matplotlib->filterpy==1.4.5->-r /content/ObjectTracking/requirements.txt (line 1)) (23.0)\n",
            "Requirement already satisfied: importlib-resources>=3.2.0 in /usr/local/lib/python3.9/dist-packages (from matplotlib->filterpy==1.4.5->-r /content/ObjectTracking/requirements.txt (line 1)) (5.12.0)\n",
            "Requirement already satisfied: cycler>=0.10 in /usr/local/lib/python3.9/dist-packages (from matplotlib->filterpy==1.4.5->-r /content/ObjectTracking/requirements.txt (line 1)) (0.11.0)\n",
            "Requirement already satisfied: python-dateutil>=2.7 in /usr/local/lib/python3.9/dist-packages (from matplotlib->filterpy==1.4.5->-r /content/ObjectTracking/requirements.txt (line 1)) (2.8.2)\n",
            "Requirement already satisfied: contourpy>=1.0.1 in /usr/local/lib/python3.9/dist-packages (from matplotlib->filterpy==1.4.5->-r /content/ObjectTracking/requirements.txt (line 1)) (1.0.7)\n",
            "Requirement already satisfied: fonttools>=4.22.0 in /usr/local/lib/python3.9/dist-packages (from matplotlib->filterpy==1.4.5->-r /content/ObjectTracking/requirements.txt (line 1)) (4.39.3)\n",
            "Requirement already satisfied: pytz>=2020.1 in /usr/local/lib/python3.9/dist-packages (from pandas>=0.25->seaborn->-r /content/ObjectTracking/requirements.txt (line 5)) (2022.7.1)\n",
            "Requirement already satisfied: zipp>=3.1.0 in /usr/local/lib/python3.9/dist-packages (from importlib-resources>=3.2.0->matplotlib->filterpy==1.4.5->-r /content/ObjectTracking/requirements.txt (line 1)) (3.15.0)\n",
            "Requirement already satisfied: six>=1.5 in /usr/local/lib/python3.9/dist-packages (from python-dateutil>=2.7->matplotlib->filterpy==1.4.5->-r /content/ObjectTracking/requirements.txt (line 1)) (1.16.0)\n",
            "Building wheels for collected packages: filterpy, scikit-image, lap\n",
            "  Building wheel for filterpy (setup.py) ... \u001b[?25l\u001b[?25hdone\n",
            "  Created wheel for filterpy: filename=filterpy-1.4.5-py3-none-any.whl size=110473 sha256=74a76663015f4c02131e509c625bdf0c50a3fdf944e004b421513bf8ad14d3ed\n",
            "  Stored in directory: /root/.cache/pip/wheels/53/e6/de/a09ea01e923aaf88b9f8c7c44329e857b2c1a31901167e55e6\n",
            "  Building wheel for scikit-image (setup.py) ... \u001b[?25l\u001b[?25hdone\n",
            "  Created wheel for scikit-image: filename=scikit_image-0.17.2-cp39-cp39-linux_x86_64.whl size=33191426 sha256=fc8f4b1848f4a31acf58e232a1cd11dad403375891bcdc11d9e8c76100edcf34\n",
            "  Stored in directory: /root/.cache/pip/wheels/7c/74/ce/c57a9d7b775a85b1aac1ade12c209148580f5ecf23560dd58b\n",
            "  Building wheel for lap (setup.py) ... \u001b[?25l\u001b[?25hdone\n",
            "  Created wheel for lap: filename=lap-0.4.0-cp39-cp39-linux_x86_64.whl size=1655054 sha256=025631fd967c7bc5c9df277633ffcb67f544c0a67600e2441905b9215fffa4e1\n",
            "  Stored in directory: /root/.cache/pip/wheels/2f/8b/30/e7dd4f9dc44fb438381df571c9a6bddc35aafd1bf39c4f8911\n",
            "Successfully built filterpy scikit-image lap\n",
            "Installing collected packages: lap, ffmpeg-python, scikit-image, filterpy\n",
            "  Attempting uninstall: scikit-image\n",
            "    Found existing installation: scikit-image 0.19.3\n",
            "    Uninstalling scikit-image-0.19.3:\n",
            "      Successfully uninstalled scikit-image-0.19.3\n",
            "Successfully installed ffmpeg-python-0.2.0 filterpy-1.4.5 lap-0.4.0 scikit-image-0.17.2\n"
          ]
        }
      ]
    },
    {
      "cell_type": "code",
      "source": [
        "!git clone https://github.com/nwojke/deep_sort.git"
      ],
      "metadata": {
        "colab": {
          "base_uri": "https://localhost:8080/"
        },
        "id": "OOF_SZ_Noknx",
        "outputId": "16accce5-59ea-4938-ec25-61b9ef21400e"
      },
      "execution_count": 9,
      "outputs": [
        {
          "output_type": "stream",
          "name": "stdout",
          "text": [
            "Cloning into 'deep_sort'...\n",
            "remote: Enumerating objects: 141, done.\u001b[K\n",
            "remote: Total 141 (delta 0), reused 0 (delta 0), pack-reused 141\u001b[K\n",
            "Receiving objects: 100% (141/141), 65.59 KiB | 1.29 MiB/s, done.\n",
            "Resolving deltas: 100% (78/78), done.\n"
          ]
        }
      ]
    },
    {
      "cell_type": "code",
      "source": [
        "!pip install ffmpeg-python"
      ],
      "metadata": {
        "colab": {
          "base_uri": "https://localhost:8080/"
        },
        "id": "3uahcrS8xD5L",
        "outputId": "6d5c11c4-97cc-4dc0-95b8-d5cd20b367b7"
      },
      "execution_count": 27,
      "outputs": [
        {
          "output_type": "stream",
          "name": "stdout",
          "text": [
            "Looking in indexes: https://pypi.org/simple, https://us-python.pkg.dev/colab-wheels/public/simple/\n",
            "Requirement already satisfied: ffmpeg-python in /usr/local/lib/python3.9/dist-packages (0.2.0)\n",
            "Requirement already satisfied: future in /usr/local/lib/python3.9/dist-packages (from ffmpeg-python) (0.18.3)\n"
          ]
        }
      ]
    },
    {
      "cell_type": "markdown",
      "source": [
        "## Object Tracking with SORT"
      ],
      "metadata": {
        "id": "OuadFPiEmDKJ"
      }
    },
    {
      "cell_type": "code",
      "source": [
        "import sys\n",
        "import os\n",
        "from google.colab import files\n",
        "import centernet\n",
        "\n",
        "module_path = os.path.abspath(os.path.join('..'))\n",
        "if module_path not in sys.path:\n",
        "    sys.path.append('/content/ObjectTracking')\n",
        "#sys.path.append(\"/content/ObjectTracking\")\n",
        "\n",
        "import numpy as np\n",
        "import PIL.Image\n",
        "import cv2\n",
        "import matplotlib.pyplot as plt\n",
        "from tqdm.auto import tqdm\n",
        "import shutil\n",
        "from __future__ import division, print_function, absolute_import"
      ],
      "metadata": {
        "id": "d6AShLAwmBW6"
      },
      "execution_count": 75,
      "outputs": []
    },
    {
      "cell_type": "markdown",
      "source": [
        "# Colab의 현재 작업경로(os.getcwd(), current working directory), \n",
        "# 폴더와 파일 리스트 (os.listdir()), \n",
        "# 경로에 특정 파일이 존재하는지 여부(os.path.isfile()) 등을 편리하게 확인할 수 있습니다. \n",
        "\n",
        "-import os\n",
        "\n",
        "-os.getcwd()\n",
        "-[Out] '/content'\n",
        "\n",
        "\n",
        "-os.listdir()\n",
        "-[Out] ['.config', 'drive', 'abalone.txt', '.-ipynb_checkpoints', 'sample_data']\n",
        "\n",
        "-os.path.isfile('/content/abalone.txt')\n",
        "-[Out] True"
      ],
      "metadata": {
        "id": "n_CEP7gWBi9N"
      }
    },
    {
      "cell_type": "code",
      "source": [
        "os.getcwd() "
      ],
      "metadata": {
        "colab": {
          "base_uri": "https://localhost:8080/",
          "height": 35
        },
        "id": "-YH0yZe-BsO-",
        "outputId": "e574dfad-5772-4a07-eea6-d63a0739c31b"
      },
      "execution_count": 83,
      "outputs": [
        {
          "output_type": "execute_result",
          "data": {
            "text/plain": [
              "'/content'"
            ],
            "application/vnd.google.colaboratory.intrinsic+json": {
              "type": "string"
            }
          },
          "metadata": {},
          "execution_count": 83
        }
      ]
    },
    {
      "cell_type": "code",
      "source": [
        "os.listdir()"
      ],
      "metadata": {
        "colab": {
          "base_uri": "https://localhost:8080/"
        },
        "id": "5xKma1b_BvhZ",
        "outputId": "437dc9a0-9a10-4b1e-e494-2b28da999cee"
      },
      "execution_count": 84,
      "outputs": [
        {
          "output_type": "execute_result",
          "data": {
            "text/plain": [
              "['.config',\n",
              " 'ObjectTracking',\n",
              " 'deep_sort',\n",
              " 'img.jpeg',\n",
              " 'Track',\n",
              " 'video.mp4',\n",
              " 'sample_data']"
            ]
          },
          "metadata": {},
          "execution_count": 84
        }
      ]
    },
    {
      "cell_type": "code",
      "source": [
        "os.path.isfile('/content/ObjectTracking/lib.py')"
      ],
      "metadata": {
        "colab": {
          "base_uri": "https://localhost:8080/"
        },
        "id": "wUgwB9ylB0X5",
        "outputId": "f217dd90-f722-4200-dba7-813a331e765f"
      },
      "execution_count": 88,
      "outputs": [
        {
          "output_type": "execute_result",
          "data": {
            "text/plain": [
              "True"
            ]
          },
          "metadata": {},
          "execution_count": 88
        }
      ]
    },
    {
      "cell_type": "code",
      "source": [
        "sys.path.append('/content/objecttracking')\n",
        "\n",
        "from sort import Sort\n",
        "from lib import show_video, create_video\n",
        "from lib import VisTrack"
      ],
      "metadata": {
        "colab": {
          "base_uri": "https://localhost:8080/",
          "height": 394
        },
        "id": "QE-ZwO4g0icn",
        "outputId": "d787818a-7f08-41ba-ae49-07e747f24baf"
      },
      "execution_count": 89,
      "outputs": [
        {
          "output_type": "error",
          "ename": "ModuleNotFoundError",
          "evalue": "ignored",
          "traceback": [
            "\u001b[0;31m---------------------------------------------------------------------------\u001b[0m",
            "\u001b[0;31mModuleNotFoundError\u001b[0m                       Traceback (most recent call last)",
            "\u001b[0;32m<ipython-input-89-293aa9f9a0e1>\u001b[0m in \u001b[0;36m<cell line: 3>\u001b[0;34m()\u001b[0m\n\u001b[1;32m      1\u001b[0m \u001b[0msys\u001b[0m\u001b[0;34m.\u001b[0m\u001b[0mpath\u001b[0m\u001b[0;34m.\u001b[0m\u001b[0mappend\u001b[0m\u001b[0;34m(\u001b[0m\u001b[0;34m'/content/objecttracking'\u001b[0m\u001b[0;34m)\u001b[0m\u001b[0;34m\u001b[0m\u001b[0;34m\u001b[0m\u001b[0m\n\u001b[1;32m      2\u001b[0m \u001b[0;34m\u001b[0m\u001b[0m\n\u001b[0;32m----> 3\u001b[0;31m \u001b[0;32mfrom\u001b[0m \u001b[0msort\u001b[0m \u001b[0;32mimport\u001b[0m \u001b[0mSort\u001b[0m\u001b[0;34m\u001b[0m\u001b[0;34m\u001b[0m\u001b[0m\n\u001b[0m\u001b[1;32m      4\u001b[0m \u001b[0;32mfrom\u001b[0m \u001b[0mlib\u001b[0m \u001b[0;32mimport\u001b[0m \u001b[0mshow_video\u001b[0m\u001b[0;34m,\u001b[0m \u001b[0mcreate_video\u001b[0m\u001b[0;34m\u001b[0m\u001b[0;34m\u001b[0m\u001b[0m\n\u001b[1;32m      5\u001b[0m \u001b[0;32mfrom\u001b[0m \u001b[0mlib\u001b[0m \u001b[0;32mimport\u001b[0m \u001b[0mVisTrack\u001b[0m\u001b[0;34m\u001b[0m\u001b[0;34m\u001b[0m\u001b[0m\n",
            "\u001b[0;31mModuleNotFoundError\u001b[0m: No module named 'sort'",
            "",
            "\u001b[0;31m---------------------------------------------------------------------------\u001b[0;32m\nNOTE: If your import is failing due to a missing package, you can\nmanually install dependencies using either !pip or !apt.\n\nTo view examples of installing some common dependencies, click the\n\"Open Examples\" button below.\n\u001b[0;31m---------------------------------------------------------------------------\u001b[0m\n"
          ],
          "errorDetails": {
            "actions": [
              {
                "action": "open_url",
                "actionText": "Open Examples",
                "url": "/notebooks/snippets/importing_libraries.ipynb"
              }
            ]
          }
        }
      ]
    },
    {
      "cell_type": "code",
      "source": [
        "!git clone https://github.com/nwojke/deep_sort.git"
      ],
      "metadata": {
        "colab": {
          "base_uri": "https://localhost:8080/"
        },
        "id": "z6Z5ATWl2D7h",
        "outputId": "8cc85270-95da-434e-e4d3-2d5984860297"
      },
      "execution_count": 35,
      "outputs": [
        {
          "output_type": "stream",
          "name": "stdout",
          "text": [
            "fatal: destination path 'deep_sort' already exists and is not an empty directory.\n"
          ]
        }
      ]
    },
    {
      "cell_type": "code",
      "source": [
        "!pip install sort"
      ],
      "metadata": {
        "colab": {
          "base_uri": "https://localhost:8080/"
        },
        "id": "KOH1MVtprLzw",
        "outputId": "51812343-4252-452d-fc4e-c92b87e9cb97"
      },
      "execution_count": 15,
      "outputs": [
        {
          "output_type": "stream",
          "name": "stdout",
          "text": [
            "Looking in indexes: https://pypi.org/simple, https://us-python.pkg.dev/colab-wheels/public/simple/\n",
            "\u001b[31mERROR: Could not find a version that satisfies the requirement sort (from versions: none)\u001b[0m\u001b[31m\n",
            "\u001b[0m\u001b[31mERROR: No matching distribution found for sort\u001b[0m\u001b[31m\n",
            "\u001b[0m"
          ]
        }
      ]
    },
    {
      "cell_type": "markdown",
      "source": [
        "## Upload the video you want to work with\n",
        "- 다음은 웹에서 파일을 다운로드하는 기본 형식입니다.\n",
        "  + $ wget http://example.org/file.tar.gz"
      ],
      "metadata": {
        "id": "ACf7SpUfm2VB"
      }
    },
    {
      "cell_type": "code",
      "source": [
        "!wget https://viratdata.org/video/VIRAT_S_010204_05_000856_000890.mp4 -O video.mp4\n",
        "video_file = \"video.mp4\"\n",
        "show_video(video_file)"
      ],
      "metadata": {
        "colab": {
          "base_uri": "https://localhost:8080/",
          "height": 413
        },
        "id": "9HEawi-Fmzww",
        "outputId": "98cf1eed-4d06-4bcd-ad4a-f1c4da0e2eb0"
      },
      "execution_count": 16,
      "outputs": [
        {
          "output_type": "stream",
          "name": "stdout",
          "text": [
            "--2023-04-01 16:44:35--  https://viratdata.org/video/VIRAT_S_010204_05_000856_000890.mp4\n",
            "Resolving viratdata.org (viratdata.org)... 185.199.108.153, 185.199.111.153, 185.199.109.153, ...\n",
            "Connecting to viratdata.org (viratdata.org)|185.199.108.153|:443... connected.\n",
            "HTTP request sent, awaiting response... 200 OK\n",
            "Length: 5248590 (5.0M) [application/mp4]\n",
            "Saving to: ‘video.mp4’\n",
            "\n",
            "video.mp4           100%[===================>]   5.00M  --.-KB/s    in 0.08s   \n",
            "\n",
            "2023-04-01 16:44:35 (62.5 MB/s) - ‘video.mp4’ saved [5248590/5248590]\n",
            "\n"
          ]
        },
        {
          "output_type": "error",
          "ename": "NameError",
          "evalue": "ignored",
          "traceback": [
            "\u001b[0;31m---------------------------------------------------------------------------\u001b[0m",
            "\u001b[0;31mNameError\u001b[0m                                 Traceback (most recent call last)",
            "\u001b[0;32m<ipython-input-16-0ffeb6f4d542>\u001b[0m in \u001b[0;36m<cell line: 3>\u001b[0;34m()\u001b[0m\n\u001b[1;32m      1\u001b[0m \u001b[0mget_ipython\u001b[0m\u001b[0;34m(\u001b[0m\u001b[0;34m)\u001b[0m\u001b[0;34m.\u001b[0m\u001b[0msystem\u001b[0m\u001b[0;34m(\u001b[0m\u001b[0;34m'wget https://viratdata.org/video/VIRAT_S_010204_05_000856_000890.mp4 -O video.mp4'\u001b[0m\u001b[0;34m)\u001b[0m\u001b[0;34m\u001b[0m\u001b[0;34m\u001b[0m\u001b[0m\n\u001b[1;32m      2\u001b[0m \u001b[0mvideo_file\u001b[0m \u001b[0;34m=\u001b[0m \u001b[0;34m\"video.mp4\"\u001b[0m\u001b[0;34m\u001b[0m\u001b[0;34m\u001b[0m\u001b[0m\n\u001b[0;32m----> 3\u001b[0;31m \u001b[0mshow_video\u001b[0m\u001b[0;34m(\u001b[0m\u001b[0mvideo_file\u001b[0m\u001b[0;34m)\u001b[0m\u001b[0;34m\u001b[0m\u001b[0;34m\u001b[0m\u001b[0m\n\u001b[0m",
            "\u001b[0;31mNameError\u001b[0m: name 'show_video' is not defined"
          ]
        }
      ]
    },
    {
      "cell_type": "code",
      "source": [
        "vt = VisTrack()\n",
        "\n",
        "# Default: num_classes=80\n",
        "obj = centernet.ObjectDetection(num_classes=80)\n",
        "\n",
        "# num_classes=80 and weights_path=None: Pre-trained COCO model will be loaded.\n",
        "obj.load_weights(weights_path=None)"
      ],
      "metadata": {
        "id": "jbHWM9AZnKme"
      },
      "execution_count": null,
      "outputs": []
    },
    {
      "cell_type": "markdown",
      "source": [
        "## Example image"
      ],
      "metadata": {
        "id": "1dEcqEgjnOYv"
      }
    },
    {
      "cell_type": "code",
      "source": [
        "!wget https://images.squarespace-cdn.com/content/v1/57aa455937c581cbe1aba790/1478015230831-I9TWP5BJX54APXMNPJ7W/ke17ZwdGBToddI8pDm48kBZw6jF4_OvU-ddo_vwqGhp7gQa3H78H3Y0txjaiv_0fDoOvxcdMmMKkDsyUqMSsMWxHk725yiiHCCLfrh8O1z5QPOohDIaIeljMHgDF5CVlOqpeNLcJ80NK65_fV7S1Ub61YCrK70I7JIpWiI8ho4Yi1WvVNQtDE81xuRbL1MFKm0sD-Bab7E9MY8W31A7zMQ/image-asset.jpeg -O img.jpeg \n",
        "\n",
        "p_img = PIL.Image.open('img.jpeg')\n",
        "img = cv2.cvtColor(np.array(p_img), cv2.COLOR_BGR2RGB)\n",
        "\n",
        "boxes, classes, scores = obj.predict(img)\n",
        "\n",
        "vt.draw_bounding_boxes(p_img, boxes, classes, scores)\n",
        "     "
      ],
      "metadata": {
        "colab": {
          "base_uri": "https://localhost:8080/",
          "height": 525
        },
        "id": "pFdw1WnsnM21",
        "outputId": "840e2614-5ee9-4875-f9ed-07e8ed76fc77"
      },
      "execution_count": 12,
      "outputs": [
        {
          "output_type": "stream",
          "name": "stdout",
          "text": [
            "--2023-04-01 16:44:01--  https://images.squarespace-cdn.com/content/v1/57aa455937c581cbe1aba790/1478015230831-I9TWP5BJX54APXMNPJ7W/ke17ZwdGBToddI8pDm48kBZw6jF4_OvU-ddo_vwqGhp7gQa3H78H3Y0txjaiv_0fDoOvxcdMmMKkDsyUqMSsMWxHk725yiiHCCLfrh8O1z5QPOohDIaIeljMHgDF5CVlOqpeNLcJ80NK65_fV7S1Ub61YCrK70I7JIpWiI8ho4Yi1WvVNQtDE81xuRbL1MFKm0sD-Bab7E9MY8W31A7zMQ/image-asset.jpeg\n",
            "Resolving images.squarespace-cdn.com (images.squarespace-cdn.com)... 151.101.0.238, 151.101.64.238, 151.101.128.238, ...\n",
            "Connecting to images.squarespace-cdn.com (images.squarespace-cdn.com)|151.101.0.238|:443... connected.\n",
            "HTTP request sent, awaiting response... 200 OK\n",
            "Length: 371299 (363K) [image/jpeg]\n",
            "Saving to: ‘img.jpeg’\n",
            "\n",
            "\rimg.jpeg              0%[                    ]       0  --.-KB/s               \rimg.jpeg            100%[===================>] 362.60K  --.-KB/s    in 0.02s   \n",
            "\n",
            "2023-04-01 16:44:02 (16.3 MB/s) - ‘img.jpeg’ saved [371299/371299]\n",
            "\n"
          ]
        },
        {
          "output_type": "error",
          "ename": "NameError",
          "evalue": "ignored",
          "traceback": [
            "\u001b[0;31m---------------------------------------------------------------------------\u001b[0m",
            "\u001b[0;31mNameError\u001b[0m                                 Traceback (most recent call last)",
            "\u001b[0;32m<ipython-input-12-6099852b640e>\u001b[0m in \u001b[0;36m<cell line: 3>\u001b[0;34m()\u001b[0m\n\u001b[1;32m      1\u001b[0m \u001b[0mget_ipython\u001b[0m\u001b[0;34m(\u001b[0m\u001b[0;34m)\u001b[0m\u001b[0;34m.\u001b[0m\u001b[0msystem\u001b[0m\u001b[0;34m(\u001b[0m\u001b[0;34m'wget https://images.squarespace-cdn.com/content/v1/57aa455937c581cbe1aba790/1478015230831-I9TWP5BJX54APXMNPJ7W/ke17ZwdGBToddI8pDm48kBZw6jF4_OvU-ddo_vwqGhp7gQa3H78H3Y0txjaiv_0fDoOvxcdMmMKkDsyUqMSsMWxHk725yiiHCCLfrh8O1z5QPOohDIaIeljMHgDF5CVlOqpeNLcJ80NK65_fV7S1Ub61YCrK70I7JIpWiI8ho4Yi1WvVNQtDE81xuRbL1MFKm0sD-Bab7E9MY8W31A7zMQ/image-asset.jpeg -O img.jpeg'\u001b[0m\u001b[0;34m)\u001b[0m\u001b[0;34m\u001b[0m\u001b[0;34m\u001b[0m\u001b[0m\n\u001b[1;32m      2\u001b[0m \u001b[0;34m\u001b[0m\u001b[0m\n\u001b[0;32m----> 3\u001b[0;31m \u001b[0mp_img\u001b[0m \u001b[0;34m=\u001b[0m \u001b[0mPIL\u001b[0m\u001b[0;34m.\u001b[0m\u001b[0mImage\u001b[0m\u001b[0;34m.\u001b[0m\u001b[0mopen\u001b[0m\u001b[0;34m(\u001b[0m\u001b[0;34m'img.jpeg'\u001b[0m\u001b[0;34m)\u001b[0m\u001b[0;34m\u001b[0m\u001b[0;34m\u001b[0m\u001b[0m\n\u001b[0m\u001b[1;32m      4\u001b[0m \u001b[0mimg\u001b[0m \u001b[0;34m=\u001b[0m \u001b[0mcv2\u001b[0m\u001b[0;34m.\u001b[0m\u001b[0mcvtColor\u001b[0m\u001b[0;34m(\u001b[0m\u001b[0mnp\u001b[0m\u001b[0;34m.\u001b[0m\u001b[0marray\u001b[0m\u001b[0;34m(\u001b[0m\u001b[0mp_img\u001b[0m\u001b[0;34m)\u001b[0m\u001b[0;34m,\u001b[0m \u001b[0mcv2\u001b[0m\u001b[0;34m.\u001b[0m\u001b[0mCOLOR_BGR2RGB\u001b[0m\u001b[0;34m)\u001b[0m\u001b[0;34m\u001b[0m\u001b[0;34m\u001b[0m\u001b[0m\n\u001b[1;32m      5\u001b[0m \u001b[0;34m\u001b[0m\u001b[0m\n",
            "\u001b[0;31mNameError\u001b[0m: name 'PIL' is not defined"
          ]
        }
      ]
    },
    {
      "cell_type": "markdown",
      "source": [
        "## Predict on the video"
      ],
      "metadata": {
        "id": "xCJcrsbZnSMD"
      }
    },
    {
      "cell_type": "code",
      "source": [
        "vidcap = cv2.VideoCapture(video_file)\n",
        "fps = vidcap.get(cv2.CAP_PROP_FPS)\n",
        "length = int(vidcap.get(cv2.CAP_PROP_FRAME_COUNT))\n",
        "\n",
        "folder_out = \"Track\"\n",
        "if os.path.exists(folder_out):\n",
        "    shutil.rmtree(folder_out)\n",
        "os.makedirs(folder_out)\n",
        "\n",
        "draw_imgs = []\n",
        "\n",
        "sort = Sort(max_age=1, min_hits=3, iou_threshold=0.3)\n",
        "\n",
        "pbar = tqdm(total=length)\n",
        "i = 0\n",
        "while True:\n",
        "    ret, frame = vidcap.read()\n",
        "    if not ret:\n",
        "        break\n",
        "\n",
        "    boxes, classes, scores = obj.predict(frame)\n",
        "    detections_in_frame = len(boxes)\n",
        "    if detections_in_frame:\n",
        "        # centernet will do detection on all the COCO classes. \"person\" is class number 0 \n",
        "        idxs = np.where(classes == 0)[0]\n",
        "        boxes = boxes[idxs]\n",
        "        scores = scores[idxs]\n",
        "        classes = classes[idxs]\n",
        "    else:\n",
        "        boxes = np.empty((0, 5))\n",
        "\n",
        "    dets = np.hstack((boxes, scores[:,np.newaxis]))\n",
        "    res = sort.update(dets)\n",
        "\n",
        "    boxes_track = res[:,:-1]\n",
        "    boces_ids = res[:,-1].astype(int)\n",
        "\n",
        "    p_frame = PIL.Image.fromarray(cv2.cvtColor(frame, cv2.COLOR_BGR2RGB))\n",
        "    if detections_in_frame:\n",
        "        p_frame = vt.draw_bounding_boxes(p_frame, boxes_track, boces_ids, scores)\n",
        "    p_frame.save(os.path.join(folder_out, f\"{i:03d}.png\"))\n",
        "\n",
        "    i+=1\n",
        "    pbar.update(1)\n",
        "     "
      ],
      "metadata": {
        "colab": {
          "base_uri": "https://localhost:8080/",
          "height": 248
        },
        "id": "7tKIaFGknQsv",
        "outputId": "d655e2a5-0749-4d78-d63b-7d9b244e8b1f"
      },
      "execution_count": 26,
      "outputs": [
        {
          "output_type": "error",
          "ename": "NameError",
          "evalue": "ignored",
          "traceback": [
            "\u001b[0;31m---------------------------------------------------------------------------\u001b[0m",
            "\u001b[0;31mNameError\u001b[0m                                 Traceback (most recent call last)",
            "\u001b[0;32m<ipython-input-26-bc56572d1ace>\u001b[0m in \u001b[0;36m<cell line: 12>\u001b[0;34m()\u001b[0m\n\u001b[1;32m     10\u001b[0m \u001b[0mdraw_imgs\u001b[0m \u001b[0;34m=\u001b[0m \u001b[0;34m[\u001b[0m\u001b[0;34m]\u001b[0m\u001b[0;34m\u001b[0m\u001b[0;34m\u001b[0m\u001b[0m\n\u001b[1;32m     11\u001b[0m \u001b[0;34m\u001b[0m\u001b[0m\n\u001b[0;32m---> 12\u001b[0;31m \u001b[0msort\u001b[0m \u001b[0;34m=\u001b[0m \u001b[0mSort\u001b[0m\u001b[0;34m(\u001b[0m\u001b[0mmax_age\u001b[0m\u001b[0;34m=\u001b[0m\u001b[0;36m1\u001b[0m\u001b[0;34m,\u001b[0m \u001b[0mmin_hits\u001b[0m\u001b[0;34m=\u001b[0m\u001b[0;36m3\u001b[0m\u001b[0;34m,\u001b[0m \u001b[0miou_threshold\u001b[0m\u001b[0;34m=\u001b[0m\u001b[0;36m0.3\u001b[0m\u001b[0;34m)\u001b[0m\u001b[0;34m\u001b[0m\u001b[0;34m\u001b[0m\u001b[0m\n\u001b[0m\u001b[1;32m     13\u001b[0m \u001b[0;34m\u001b[0m\u001b[0m\n\u001b[1;32m     14\u001b[0m \u001b[0mpbar\u001b[0m \u001b[0;34m=\u001b[0m \u001b[0mtqdm\u001b[0m\u001b[0;34m(\u001b[0m\u001b[0mtotal\u001b[0m\u001b[0;34m=\u001b[0m\u001b[0mlength\u001b[0m\u001b[0;34m)\u001b[0m\u001b[0;34m\u001b[0m\u001b[0;34m\u001b[0m\u001b[0m\n",
            "\u001b[0;31mNameError\u001b[0m: name 'Sort' is not defined"
          ]
        }
      ]
    },
    {
      "cell_type": "markdown",
      "source": [
        "## Show and download the tracking"
      ],
      "metadata": {
        "id": "F7QnRJTYnWt9"
      }
    },
    {
      "cell_type": "code",
      "source": [
        "track_video_file = 'tracking.mp4'\n",
        "create_video(frames_patten='Track/%03d.png', video_file = track_video_file, framerate=fps)"
      ],
      "metadata": {
        "id": "zqaq7KsInY2P"
      },
      "execution_count": null,
      "outputs": []
    },
    {
      "cell_type": "code",
      "source": [
        "files.download(track_video_file)"
      ],
      "metadata": {
        "id": "OOngBlqFnZg6"
      },
      "execution_count": null,
      "outputs": []
    },
    {
      "cell_type": "code",
      "source": [
        "show_video(track_video_file)"
      ],
      "metadata": {
        "id": "oQQow59NnZUD"
      },
      "execution_count": null,
      "outputs": []
    }
  ]
}